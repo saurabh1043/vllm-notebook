{
 "cells": [
  {
   "cell_type": "code",
   "execution_count": 1,
   "id": "f00cb972-444a-42fe-876c-6b9f118d3b81",
   "metadata": {},
   "outputs": [
    {
     "name": "stdout",
     "output_type": "stream",
     "text": [
      "WARNING 05-26 07:40:12 ray_utils.py:46] Failed to import Ray with ModuleNotFoundError(\"No module named 'ray'\"). For multi-node inference, please install Ray with `pip install ray`.\n"
     ]
    }
   ],
   "source": [
    "from vllm import LLM, SamplingParams"
   ]
  },
  {
   "cell_type": "code",
   "execution_count": 2,
   "id": "1b2700da-e47f-44b1-9a29-76b9cd49850f",
   "metadata": {},
   "outputs": [],
   "source": [
    "prompts = [\n",
    "    \"Hello, my name is\",\n",
    "    \"The president of the United States is\",\n",
    "    \"The capital of France is\",\n",
    "    \"The future of AI is\",\n",
    "]\n",
    "sampling_params = SamplingParams(temperature=0.8, top_p=0.95)"
   ]
  },
  {
   "cell_type": "code",
   "execution_count": 3,
   "id": "d35ee50c-33b7-4948-ab2c-877af10e7a38",
   "metadata": {},
   "outputs": [
    {
     "name": "stderr",
     "output_type": "stream",
     "text": [
      "/usr/local/lib/python3.10/dist-packages/huggingface_hub/file_download.py:1132: FutureWarning: `resume_download` is deprecated and will be removed in version 1.0.0. Downloads always resume when possible. If you want to force a new download, use `force_download=True`.\n",
      "  warnings.warn(\n"
     ]
    },
    {
     "name": "stdout",
     "output_type": "stream",
     "text": [
      "WARNING 05-26 07:40:14 config.py:383] Possibly too large swap space. 4.00 GiB out of the 7.69 GiB total CPU memory is allocated for the swap space.\n",
      "INFO 05-26 07:40:14 llm_engine.py:103] Initializing an LLM engine (v0.4.2) with config: model='facebook/opt-125m', speculative_config=None, tokenizer='facebook/opt-125m', skip_tokenizer_init=False, tokenizer_mode=auto, revision=None, rope_scaling=None, tokenizer_revision=None, trust_remote_code=False, dtype=torch.float16, max_seq_len=2048, download_dir=None, load_format=LoadFormat.AUTO, tensor_parallel_size=1, disable_custom_all_reduce=False, quantization=None, enforce_eager=False, kv_cache_dtype=auto, quantization_param_path=None, device_config=cpu, decoding_config=DecodingConfig(guided_decoding_backend='outlines'), seed=0, served_model_name=facebook/opt-125m)\n",
      "WARNING 05-26 07:40:15 cpu_executor.py:113] float16 is not supported on CPU, casting to bfloat16.\n",
      "WARNING 05-26 07:40:15 cpu_executor.py:116] CUDA graph is not supported on CPU, fallback to the eager mode.\n",
      "WARNING 05-26 07:40:15 cpu_executor.py:143] Environment variable VLLM_CPU_KVCACHE_SPACE (GB) for CPU backend is not set, using 4 by default.\n",
      "INFO 05-26 07:40:16 selector.py:101] Cannot use _Backend.FLASH_ATTN backend on CPU.\n",
      "INFO 05-26 07:40:16 selector.py:61] Using Torch SDPA backend.\n",
      "INFO 05-26 07:40:18 selector.py:101] Cannot use _Backend.FLASH_ATTN backend on CPU.\n",
      "INFO 05-26 07:40:18 selector.py:61] Using Torch SDPA backend.\n",
      "INFO 05-26 07:40:18 weight_utils.py:207] Using model weights format ['*.bin']\n",
      "INFO 05-26 07:40:25 cpu_executor.py:72] # CPU blocks: 7281\n"
     ]
    }
   ],
   "source": [
    "llm = LLM(model=\"facebook/opt-125m\")"
   ]
  },
  {
   "cell_type": "code",
   "execution_count": 4,
   "id": "a4b04bc5-8063-43ae-a130-1daf3b0aa051",
   "metadata": {},
   "outputs": [
    {
     "name": "stderr",
     "output_type": "stream",
     "text": [
      "Processed prompts: 100%|█████████████████████████████████████████████████████████████████████████████████| 4/4 [00:04<00:00,  1.06s/it, Generation Speed: 15.11 toks/s]"
     ]
    },
    {
     "name": "stdout",
     "output_type": "stream",
     "text": [
      "Prompt: 'Hello, my name is', Generated text: ' Richard and I live in Essex, UK. I am a Licensed Nursing Consultant'\n",
      "Prompt: 'The president of the United States is', Generated text: ' making no secret of his intention to seek a second term.\\n\\nThat move'\n",
      "Prompt: 'The capital of France is', Generated text: ' going to be a fucking wasteland and the less populated areas in the western part of'\n",
      "Prompt: 'The future of AI is', Generated text: \" so dark that its development will seem entirely unwise.   It's currently\"\n"
     ]
    },
    {
     "name": "stderr",
     "output_type": "stream",
     "text": [
      "\n"
     ]
    }
   ],
   "source": [
    "outputs = llm.generate(prompts, sampling_params)\n",
    "\n",
    "# Print the outputs.\n",
    "for output in outputs:\n",
    "    prompt = output.prompt\n",
    "    generated_text = output.outputs[0].text\n",
    "    print(f\"Prompt: {prompt!r}, Generated text: {generated_text!r}\")"
   ]
  },
  {
   "cell_type": "code",
   "execution_count": null,
   "id": "f2c1a12f-1bdc-4839-867b-91d01db8ba88",
   "metadata": {},
   "outputs": [],
   "source": []
  }
 ],
 "metadata": {
  "kernelspec": {
   "display_name": "Python 3 (ipykernel)",
   "language": "python",
   "name": "python3"
  },
  "language_info": {
   "codemirror_mode": {
    "name": "ipython",
    "version": 3
   },
   "file_extension": ".py",
   "mimetype": "text/x-python",
   "name": "python",
   "nbconvert_exporter": "python",
   "pygments_lexer": "ipython3",
   "version": "3.10.12"
  }
 },
 "nbformat": 4,
 "nbformat_minor": 5
}
